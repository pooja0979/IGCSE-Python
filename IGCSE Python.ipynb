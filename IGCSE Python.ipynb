{
 "cells": [
  {
   "cell_type": "raw",
   "id": "209ec539-4bdb-4a7e-89f7-853aa8c583ca",
   "metadata": {},
   "source": [
    "The statement below is used to print an integer value"
   ]
  },
  {
   "cell_type": "code",
   "execution_count": 1,
   "id": "191c2fdf-334c-417a-8208-5f23c68bcfbf",
   "metadata": {},
   "outputs": [
    {
     "name": "stdout",
     "output_type": "stream",
     "text": [
      "23\n"
     ]
    }
   ],
   "source": [
    "print(23)"
   ]
  },
  {
   "cell_type": "raw",
   "id": "14ff41a5-17db-442d-a7c2-40c78549eaf7",
   "metadata": {},
   "source": [
    "The statement below is to print string values"
   ]
  },
  {
   "cell_type": "code",
   "execution_count": 2,
   "id": "e298786c-1064-4cb6-b49b-f5a335f29e9b",
   "metadata": {},
   "outputs": [
    {
     "name": "stdout",
     "output_type": "stream",
     "text": [
      "Hello World!\n"
     ]
    }
   ],
   "source": [
    "print('Hello World!')"
   ]
  },
  {
   "cell_type": "code",
   "execution_count": 3,
   "id": "4ad3682a-c8eb-4252-b6d1-e284dc84e981",
   "metadata": {},
   "outputs": [
    {
     "name": "stdout",
     "output_type": "stream",
     "text": [
      "Hello World!\n"
     ]
    }
   ],
   "source": [
    "print(\"Hello World!\")"
   ]
  },
  {
   "cell_type": "raw",
   "id": "cb5c6a08-2c6a-4f1a-8c7a-2d1831270c1f",
   "metadata": {},
   "source": [
    "To print a number and string values together there are various methods. Let's check all of them"
   ]
  },
  {
   "cell_type": "code",
   "execution_count": 4,
   "id": "85ad3240-6706-415e-bd27-4fe308785324",
   "metadata": {},
   "outputs": [
    {
     "name": "stdout",
     "output_type": "stream",
     "text": [
      "Number of days in a week 7\n"
     ]
    }
   ],
   "source": [
    "print(\"Number of days in a week\",7)"
   ]
  },
  {
   "cell_type": "code",
   "execution_count": 5,
   "id": "118aaac1-b62a-4629-9b59-f66ede6c8f9d",
   "metadata": {},
   "outputs": [
    {
     "ename": "TypeError",
     "evalue": "can only concatenate str (not \"int\") to str",
     "output_type": "error",
     "traceback": [
      "\u001b[1;31m---------------------------------------------------------------------------\u001b[0m",
      "\u001b[1;31mTypeError\u001b[0m                                 Traceback (most recent call last)",
      "Cell \u001b[1;32mIn[5], line 1\u001b[0m\n\u001b[1;32m----> 1\u001b[0m \u001b[38;5;28mprint\u001b[39m(\u001b[38;5;124;43m\"\u001b[39;49m\u001b[38;5;124;43mNumber of days in a week\u001b[39;49m\u001b[38;5;124;43m\"\u001b[39;49m\u001b[38;5;241;43m+\u001b[39;49m\u001b[38;5;241;43m7\u001b[39;49m)\n",
      "\u001b[1;31mTypeError\u001b[0m: can only concatenate str (not \"int\") to str"
     ]
    }
   ],
   "source": [
    "print(\"Number of days in a week\"+7)"
   ]
  },
  {
   "cell_type": "code",
   "execution_count": 6,
   "id": "0f3b8569-418b-43c2-8a0c-03420703a656",
   "metadata": {},
   "outputs": [
    {
     "name": "stdout",
     "output_type": "stream",
     "text": [
      "Number of days in a week7\n"
     ]
    }
   ],
   "source": [
    "print(\"Number of days in a week\"+str(7))"
   ]
  },
  {
   "cell_type": "code",
   "execution_count": 10,
   "id": "0e3209ca-64be-437d-8c3f-fb54b35afd61",
   "metadata": {},
   "outputs": [
    {
     "name": "stdout",
     "output_type": "stream",
     "text": [
      "Number of days in a week are 7\n"
     ]
    }
   ],
   "source": [
    "num=7\n",
    "print(f\"Number of days in a week are {num}\")"
   ]
  },
  {
   "cell_type": "code",
   "execution_count": 11,
   "id": "30b82ac8-5500-4e09-9419-6aefcdc2d916",
   "metadata": {},
   "outputs": [
    {
     "name": "stdout",
     "output_type": "stream",
     "text": [
      "Number of days in a week are 7\n"
     ]
    }
   ],
   "source": [
    "num=7\n",
    "print(\"Number of days in a week are {}\".format(num))"
   ]
  },
  {
   "cell_type": "code",
   "execution_count": 12,
   "id": "a29195e0-5735-44b4-8689-70673784d315",
   "metadata": {},
   "outputs": [
    {
     "name": "stdin",
     "output_type": "stream",
     "text": [
      "Enter the side 4\n"
     ]
    },
    {
     "ename": "TypeError",
     "evalue": "can't multiply sequence by non-int of type 'str'",
     "output_type": "error",
     "traceback": [
      "\u001b[1;31m---------------------------------------------------------------------------\u001b[0m",
      "\u001b[1;31mTypeError\u001b[0m                                 Traceback (most recent call last)",
      "Cell \u001b[1;32mIn[12], line 2\u001b[0m\n\u001b[0;32m      1\u001b[0m num\u001b[38;5;241m=\u001b[39m\u001b[38;5;28minput\u001b[39m(\u001b[38;5;124m\"\u001b[39m\u001b[38;5;124mEnter the side\u001b[39m\u001b[38;5;124m\"\u001b[39m)\n\u001b[1;32m----> 2\u001b[0m \u001b[38;5;28mprint\u001b[39m(\u001b[38;5;124mf\u001b[39m\u001b[38;5;124m\"\u001b[39m\u001b[38;5;124mSum of square is \u001b[39m\u001b[38;5;132;01m{\u001b[39;00mnum\u001b[38;5;241m*\u001b[39mnum\u001b[38;5;132;01m}\u001b[39;00m\u001b[38;5;124m\"\u001b[39m)\n",
      "\u001b[1;31mTypeError\u001b[0m: can't multiply sequence by non-int of type 'str'"
     ]
    }
   ],
   "source": [
    "num=input(\"Enter the side\")\n",
    "print(f\"Sum of square is {num*num}\")"
   ]
  },
  {
   "cell_type": "code",
   "execution_count": 14,
   "id": "c2908c87-5dd1-4323-b6ad-cdd3db054ac0",
   "metadata": {},
   "outputs": [
    {
     "name": "stdin",
     "output_type": "stream",
     "text": [
      "Enter the side:  4\n"
     ]
    },
    {
     "name": "stdout",
     "output_type": "stream",
     "text": [
      "Sum of square is 16\n"
     ]
    }
   ],
   "source": [
    "num = input(\"Enter the side: \")\n",
    "print(f\"Sum of square is {int(num) * int(num)}\")\n"
   ]
  },
  {
   "cell_type": "code",
   "execution_count": 15,
   "id": "51a27c0a-fd7d-4c33-8488-2bd5f2aa024f",
   "metadata": {},
   "outputs": [
    {
     "name": "stdin",
     "output_type": "stream",
     "text": [
      "Enter the side 2\n"
     ]
    },
    {
     "name": "stdout",
     "output_type": "stream",
     "text": [
      "Sum of square is 4\n"
     ]
    }
   ],
   "source": [
    "num=int(input(\"Enter the side\"))\n",
    "print(f\"Sum of square is {num*num}\")"
   ]
  },
  {
   "cell_type": "code",
   "execution_count": 38,
   "id": "f77ecdbb-9e34-4321-ae9d-070e636ccb60",
   "metadata": {},
   "outputs": [
    {
     "name": "stdin",
     "output_type": "stream",
     "text": [
      "Enter a word in upper case and use lower function to print it in lower case HELLO\n"
     ]
    },
    {
     "name": "stdout",
     "output_type": "stream",
     "text": [
      "hello\n"
     ]
    }
   ],
   "source": [
    "#String methods\n",
    "word=input(\"Enter a word in upper case and use lower function to print it in lower case\").lower()\n",
    "print(word)"
   ]
  },
  {
   "cell_type": "code",
   "execution_count": 39,
   "id": "26f38a8e-7c3f-4e4f-81db-ec91d6ed1d3a",
   "metadata": {},
   "outputs": [
    {
     "name": "stdin",
     "output_type": "stream",
     "text": [
      "Enter a word in lower case and use upper function to print it in lower case school\n"
     ]
    },
    {
     "name": "stdout",
     "output_type": "stream",
     "text": [
      "SCHOOL\n"
     ]
    }
   ],
   "source": [
    "#String methods\n",
    "word=input(\"Enter a word in lower case and use upper function to print it in lower case\").upper()\n",
    "print(word)"
   ]
  },
  {
   "cell_type": "code",
   "execution_count": 42,
   "id": "14bd62dc-f83f-41be-a665-b8d7db27e3b4",
   "metadata": {},
   "outputs": [
    {
     "name": "stdin",
     "output_type": "stream",
     "text": [
      "Enter a word with spaces in left and right and this function will ignore those spaces    hello   \n"
     ]
    },
    {
     "name": "stdout",
     "output_type": "stream",
     "text": [
      "hellohello\n"
     ]
    }
   ],
   "source": [
    "#String methods\n",
    "word=input(\"Enter a word with spaces in left and right and this function will ignore those spaces\").strip()\n",
    "print(word*2)"
   ]
  },
  {
   "cell_type": "code",
   "execution_count": 44,
   "id": "c962cd1c-83b6-4c67-a0bf-17adfc35f93e",
   "metadata": {},
   "outputs": [
    {
     "name": "stdin",
     "output_type": "stream",
     "text": [
      "Enter a word separated by commas and this function will split it in different parts wherever it recognised comma hello,world,school,bye\n"
     ]
    },
    {
     "name": "stdout",
     "output_type": "stream",
     "text": [
      "['hello', 'world', 'school', 'bye']\n",
      "h\n",
      "w\n",
      "s\n",
      "b\n"
     ]
    }
   ],
   "source": [
    "#String methods\n",
    "word=input(\"Enter a word separated by commas and this function will split it in different parts wherever it recognised comma\").split(\",\")\n",
    "print(word)\n",
    "for i in word:\n",
    "    print(i[0])"
   ]
  },
  {
   "cell_type": "code",
   "execution_count": 47,
   "id": "f7efb0b2-0994-44fd-8d8f-ccb84e72a1bb",
   "metadata": {},
   "outputs": [
    {
     "name": "stdin",
     "output_type": "stream",
     "text": [
      "Enter a word separated by commas and this function will split it in different parts wherever it recognised comma hello,world,school\n"
     ]
    },
    {
     "name": "stdout",
     "output_type": "stream",
     "text": [
      "['hello', 'world', 'school']\n",
      "hello\n"
     ]
    }
   ],
   "source": [
    "#String methods\n",
    "word=input(\"Enter a word separated by commas and this function will split it in different parts wherever it recognised comma and print the first word\").split(\",\")\n",
    "print(word)\n",
    "print(word[0])"
   ]
  },
  {
   "cell_type": "code",
   "execution_count": 49,
   "id": "cecb4bb4-e559-462c-91e7-d5c4e433986c",
   "metadata": {},
   "outputs": [
    {
     "name": "stdin",
     "output_type": "stream",
     "text": [
      "Enter a word separated by commas and print the last word hello,school,world\n"
     ]
    },
    {
     "name": "stdout",
     "output_type": "stream",
     "text": [
      "world\n"
     ]
    }
   ],
   "source": [
    "#String methods\n",
    "word=input(\"Enter a word separated by commas and print the last word\").split(\",\")\n",
    "print(word[-1])"
   ]
  },
  {
   "cell_type": "code",
   "execution_count": 50,
   "id": "bcb9125d-cf60-494a-9ba0-95024272d9ba",
   "metadata": {},
   "outputs": [
    {
     "name": "stdin",
     "output_type": "stream",
     "text": [
      "Enter a word separated by hash now and print the last word hello#world#school\n"
     ]
    },
    {
     "name": "stdout",
     "output_type": "stream",
     "text": [
      "school\n"
     ]
    }
   ],
   "source": [
    "#String methods\n",
    "word=input(\"Enter a word separated by hash now and print the last word\").split(\"#\")\n",
    "print(word[-1])"
   ]
  },
  {
   "cell_type": "code",
   "execution_count": 51,
   "id": "833b8ac2-c80b-48f6-a6ae-6de7b12958d2",
   "metadata": {},
   "outputs": [
    {
     "name": "stdout",
     "output_type": "stream",
     "text": [
      "4\n"
     ]
    }
   ],
   "source": [
    "#Random library method 1\n",
    "import random\n",
    "num=random.randint(1,10)\n",
    "print(num)"
   ]
  },
  {
   "cell_type": "code",
   "execution_count": 55,
   "id": "96fe6988-6f31-4565-ae91-d6d437f4f60c",
   "metadata": {},
   "outputs": [
    {
     "name": "stdout",
     "output_type": "stream",
     "text": [
      "10\n"
     ]
    }
   ],
   "source": [
    "#Random library method 2\n",
    "from random import randint\n",
    "num=randint(1,10)  #it includes both 1 and 10\n",
    "print(num)"
   ]
  },
  {
   "cell_type": "raw",
   "id": "a2e24d0f-fb9b-491a-888e-97692a3179c6",
   "metadata": {},
   "source": [
    "Edexcel IGCSE 4CP02\n",
    "June 2019 Q1(c)"
   ]
  },
  {
   "cell_type": "raw",
   "id": "24a9f5c9-87ab-4806-a11f-d37a3cf2b60c",
   "metadata": {},
   "source": [
    "# Q01c. \n",
    "'''The program should print out a counter and the counter with 7 added to it.\n",
    "There are three errors in the code.\n",
    "Amend the code to correct the errors.\n",
    "\n",
    "count = 0\n",
    "\n",
    "maxValue = 5\n",
    "\n",
    "while (count < maxValue)\n",
    "    print(count, Count + constantValue)\n",
    "    count = count + 1'''\n"
   ]
  },
  {
   "cell_type": "code",
   "execution_count": 23,
   "id": "40cd6a43-89b9-4056-b019-a15084f3f9e9",
   "metadata": {},
   "outputs": [
    {
     "name": "stdout",
     "output_type": "stream",
     "text": [
      "0 7\n",
      "1 8\n",
      "2 9\n",
      "3 10\n",
      "4 11\n"
     ]
    }
   ],
   "source": [
    "count = 0\n",
    "constantValue=7 #Intialise a constant to 7\n",
    "maxValue = 5\n",
    "\n",
    "while (count < maxValue): #colon missing\n",
    "    print(count, count + constantValue)  #change Count to count (vairbale mismatch)\n",
    "    count = count + 1\n",
    "    "
   ]
  },
  {
   "cell_type": "code",
   "execution_count": 27,
   "id": "46c235a6-daf2-484d-9a04-134b28899106",
   "metadata": {},
   "outputs": [
    {
     "name": "stdout",
     "output_type": "stream",
     "text": [
      "Shop income : 2010 Assistant sales  8\n",
      "Assistant bonus =  50.0\n",
      "Shop income : 4800 Assistant sales  11\n",
      "Assistant bonus =  100.0\n",
      "Shop income : 2011 Assistant sales  4\n",
      "Assistant bonus =  0\n",
      "Shop income : 5000 Assistant sales  9\n",
      "Assistant bonus =  50.0\n"
     ]
    }
   ],
   "source": [
    "# Q01f\n",
    "\n",
    "list_1f =[(2010,8), (4800, 11), (2011,4), (5000,9)]\n",
    "assistantSalary = 1000.00\n",
    "\n",
    "for pair in list_1f:\n",
    "    shopIncome = pair[0]\n",
    "    assistantSales = pair[1]\n",
    "    print (\"Shop income :\", shopIncome, \"Assistant sales \", assistantSales)\n",
    "\n",
    "    if  shopIncome >5000 or assistantSales>=10 :\n",
    "        print (\"Assistant bonus = \", assistantSalary * 0.1)\n",
    "\n",
    "    elif shopIncome >=2000 and assistantSales>=5:\n",
    "            print(\"Assistant bonus = \", assistantSalary * 0.05)\n",
    "\n",
    "    else:\n",
    "        print(\"Assistant bonus = \", 0)"
   ]
  },
  {
   "cell_type": "code",
   "execution_count": null,
   "id": "e8a365e6-f312-488c-8c47-1e1a84afae50",
   "metadata": {},
   "outputs": [],
   "source": [
    "# Q02a\n",
    "\n",
    "from random import *\n",
    "\n",
    "#  Initialise variables\n",
    "\n",
    "\n",
    "\n",
    "#  Print prompt and take guess from user\n",
    "\n",
    "\n",
    "\n",
    "#  Create WHILE loop to check if guess is correct\n",
    "\n",
    "\n",
    "\n",
    "#  Report the correct answer to the user and indicate the number of guesses"
   ]
  },
  {
   "cell_type": "code",
   "execution_count": 36,
   "id": "6a17080a-cd57-4d77-847b-2ea24b1d0704",
   "metadata": {},
   "outputs": [],
   "source": [
    "f1=open(\"Email.txt\",\"r\")\n",
    "result=f1.read()\n",
    "f2=open(\"Error.txt\",\"w\")\n",
    "for i in result:\n",
    "    if \"@\" not in i:\n",
    "        f2.write(i)\n",
    "\n",
    "f1.close()\n",
    "f2.close()"
   ]
  },
  {
   "cell_type": "code",
   "execution_count": null,
   "id": "4c442860-94fa-44d3-bcd6-cb6df70b8351",
   "metadata": {},
   "outputs": [],
   "source": []
  }
 ],
 "metadata": {
  "kernelspec": {
   "display_name": "Python 3 (ipykernel)",
   "language": "python",
   "name": "python3"
  },
  "language_info": {
   "codemirror_mode": {
    "name": "ipython",
    "version": 3
   },
   "file_extension": ".py",
   "mimetype": "text/x-python",
   "name": "python",
   "nbconvert_exporter": "python",
   "pygments_lexer": "ipython3",
   "version": "3.10.2"
  }
 },
 "nbformat": 4,
 "nbformat_minor": 5
}
